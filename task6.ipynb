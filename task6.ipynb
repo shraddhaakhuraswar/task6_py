{
 "cells": [
  {
   "cell_type": "code",
   "execution_count": 4,
   "metadata": {},
   "outputs": [
    {
     "name": "stdout",
     "output_type": "stream",
     "text": [
      "{'name': 'shraddha', 'age': 22, 'age_category': 'Adult'}\n"
     ]
    }
   ],
   "source": [
    "def get_user_data():\n",
    "\n",
    "    name = input(\"Enter your name: \")\n",
    "    age = int(input(\"Enter your age: \"))\n",
    "\n",
    "  \n",
    "    if age < 13:\n",
    "        age_category = 'Child'\n",
    "    elif age <= 19:\n",
    "        age_category = 'Teen'\n",
    "    elif age <= 59:\n",
    "        age_category = 'Adult'\n",
    "    else:\n",
    "        age_category = 'Senior'\n",
    "\n",
    "    user_data = {\n",
    "        'name': name,\n",
    "        'age': age,\n",
    "        'age_category': age_category\n",
    "    }\n",
    "\n",
    "    return user_data\n",
    "\n",
    "user_info = get_user_data()\n",
    "print(user_info)\n"
   ]
  },
  {
   "cell_type": "code",
   "execution_count": null,
   "metadata": {},
   "outputs": [],
   "source": []
  }
 ],
 "metadata": {
  "kernelspec": {
   "display_name": "Python 3",
   "language": "python",
   "name": "python3"
  },
  "language_info": {
   "codemirror_mode": {
    "name": "ipython",
    "version": 3
   },
   "file_extension": ".py",
   "mimetype": "text/x-python",
   "name": "python",
   "nbconvert_exporter": "python",
   "pygments_lexer": "ipython3",
   "version": "3.12.5"
  }
 },
 "nbformat": 4,
 "nbformat_minor": 2
}
